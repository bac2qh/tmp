{
  "nbformat": 4,
  "nbformat_minor": 0,
  "metadata": {
    "colab": {
      "name": "DEM.ipynb",
      "version": "0.3.2",
      "provenance": [],
      "collapsed_sections": [],
      "include_colab_link": true
    },
    "kernelspec": {
      "name": "python3",
      "display_name": "Python 3"
    }
  },
  "cells": [
    {
      "cell_type": "markdown",
      "metadata": {
        "id": "view-in-github",
        "colab_type": "text"
      },
      "source": [
        "<a href=\"https://colab.research.google.com/github/bac2qh/tmp/blob/master/DEM.ipynb\" target=\"_parent\"><img src=\"https://colab.research.google.com/assets/colab-badge.svg\" alt=\"Open In Colab\"/></a>"
      ]
    },
    {
      "cell_type": "markdown",
      "metadata": {
        "id": "iK9gKKRTzb9I",
        "colab_type": "text"
      },
      "source": [
        "## This notebook handles the DEM data so that it can be ready for Inverse-distance-weighting directly later on"
      ]
    },
    {
      "cell_type": "code",
      "metadata": {
        "id": "y9YQFNE7oUpI",
        "colab_type": "code",
        "colab": {}
      },
      "source": [
        "# from google.colab import drive\n",
        "# drive.mount('/content/drive')"
      ],
      "execution_count": 0,
      "outputs": []
    },
    {
      "cell_type": "code",
      "metadata": {
        "id": "jynQKlfUobFv",
        "colab_type": "code",
        "colab": {}
      },
      "source": [
        "import numpy as np\n",
        "import pandas as pd\n",
        "import matplotlib.pyplot as plt\n",
        "from osgeo import gdal, ogr, osr\n",
        "# from PIL import Image"
      ],
      "execution_count": 0,
      "outputs": []
    },
    {
      "cell_type": "code",
      "metadata": {
        "id": "DcWcEMLushq6",
        "colab_type": "code",
        "colab": {}
      },
      "source": [
        "# read the DEM file and get the information about corner locations and pixel size\n",
        "ds = gdal.Open('./drive/My Drive/Colab Notebooks/Mosaic_DEM10m_LiDAR_SP_UT_ft.tif')\n",
        "width = ds.RasterXSize\n",
        "height = ds.RasterYSize\n",
        "gt = ds.GetGeoTransform()\n",
        "minx = gt[0]\n",
        "miny = gt[3] + width*gt[4] + height*gt[5] \n",
        "maxx = gt[0] + width*gt[1] + height*gt[2]\n",
        "maxy = gt[3] "
      ],
      "execution_count": 0,
      "outputs": []
    },
    {
      "cell_type": "code",
      "metadata": {
        "id": "WDp0IeQhsrih",
        "colab_type": "code",
        "outputId": "64a6bcbc-6532-4cfd-b8f9-6cb929966170",
        "colab": {
          "base_uri": "https://localhost:8080/",
          "height": 146
        }
      },
      "source": [
        "print(minx)\n",
        "print(miny)\n",
        "print(maxx)\n",
        "print(maxy)\n",
        "print(width)\n",
        "print(height)\n",
        "print(f\"pixel size {(maxx - minx)/width} * {(maxy - miny)/height}\")"
      ],
      "execution_count": 0,
      "outputs": [
        {
          "output_type": "stream",
          "text": [
            "2229919.9189319448\n",
            "7308206.840474491\n",
            "2266696.492555711\n",
            "7339047.615460769\n",
            "22317\n",
            "18715\n",
            "pixel size 1.6479174451658463 * 1.647917445165817\n"
          ],
          "name": "stdout"
        }
      ]
    },
    {
      "cell_type": "markdown",
      "metadata": {
        "id": "gXLqtYe6xI7z",
        "colab_type": "text"
      },
      "source": [
        "#### Steps of preprocessing\n",
        "1. go to the model output folder and find the output files (~.MAXE file for maximum depth on each node, and ~.MESHOUTE file for node locations)\n",
        "2. parse the file by space (I did this in Excel)\n",
        "3. import the parsed files to python(I used pd.read_csv)\n",
        "4. merge the two files on #node column\n",
        "5. export the merged file \n",
        "6. import the merged file here (the depth.csv I have here)"
      ]
    },
    {
      "cell_type": "code",
      "metadata": {
        "id": "aA3fwiA9s6bN",
        "colab_type": "code",
        "colab": {}
      },
      "source": [
        "# read the preprocessed depth file \n",
        "\n",
        "depth = pd.read_csv('./drive/My Drive/Colab Notebooks/depth.csv', index_col=0)"
      ],
      "execution_count": 0,
      "outputs": []
    },
    {
      "cell_type": "code",
      "metadata": {
        "id": "OLM8TUDPt2oG",
        "colab_type": "code",
        "outputId": "e45c6b5a-1a60-4188-d890-33557c180f69",
        "colab": {
          "base_uri": "https://localhost:8080/",
          "height": 206
        }
      },
      "source": [
        "depth.head()"
      ],
      "execution_count": 0,
      "outputs": [
        {
          "output_type": "execute_result",
          "data": {
            "text/html": [
              "<div>\n",
              "<style scoped>\n",
              "    .dataframe tbody tr th:only-of-type {\n",
              "        vertical-align: middle;\n",
              "    }\n",
              "\n",
              "    .dataframe tbody tr th {\n",
              "        vertical-align: top;\n",
              "    }\n",
              "\n",
              "    .dataframe thead th {\n",
              "        text-align: right;\n",
              "    }\n",
              "</style>\n",
              "<table border=\"1\" class=\"dataframe\">\n",
              "  <thead>\n",
              "    <tr style=\"text-align: right;\">\n",
              "      <th></th>\n",
              "      <th>Node</th>\n",
              "      <th>X</th>\n",
              "      <th>Y</th>\n",
              "      <th>DEPTH</th>\n",
              "    </tr>\n",
              "  </thead>\n",
              "  <tbody>\n",
              "    <tr>\n",
              "      <th>0</th>\n",
              "      <td>1</td>\n",
              "      <td>2248148.95</td>\n",
              "      <td>7327379.83</td>\n",
              "      <td>0.0</td>\n",
              "    </tr>\n",
              "    <tr>\n",
              "      <th>1</th>\n",
              "      <td>2</td>\n",
              "      <td>2248159.85</td>\n",
              "      <td>7327369.53</td>\n",
              "      <td>0.0</td>\n",
              "    </tr>\n",
              "    <tr>\n",
              "      <th>2</th>\n",
              "      <td>3</td>\n",
              "      <td>2248138.05</td>\n",
              "      <td>7327390.12</td>\n",
              "      <td>0.0</td>\n",
              "    </tr>\n",
              "    <tr>\n",
              "      <th>3</th>\n",
              "      <td>4</td>\n",
              "      <td>2248170.74</td>\n",
              "      <td>7327359.23</td>\n",
              "      <td>0.0</td>\n",
              "    </tr>\n",
              "    <tr>\n",
              "      <th>4</th>\n",
              "      <td>5</td>\n",
              "      <td>2248181.64</td>\n",
              "      <td>7327348.94</td>\n",
              "      <td>0.0</td>\n",
              "    </tr>\n",
              "  </tbody>\n",
              "</table>\n",
              "</div>"
            ],
            "text/plain": [
              "   Node           X           Y  DEPTH\n",
              "0     1  2248148.95  7327379.83    0.0\n",
              "1     2  2248159.85  7327369.53    0.0\n",
              "2     3  2248138.05  7327390.12    0.0\n",
              "3     4  2248170.74  7327359.23    0.0\n",
              "4     5  2248181.64  7327348.94    0.0"
            ]
          },
          "metadata": {
            "tags": []
          },
          "execution_count": 16
        }
      ]
    },
    {
      "cell_type": "code",
      "metadata": {
        "id": "SzuuS9lQt3ws",
        "colab_type": "code",
        "outputId": "59c50e31-a615-4835-817f-1f17652934f3",
        "colab": {
          "base_uri": "https://localhost:8080/",
          "height": 90
        }
      },
      "source": [
        "print(depth.X.max())\n",
        "print(depth.X.min())\n",
        "print(depth.Y.max())\n",
        "print(depth.Y.min())"
      ],
      "execution_count": 0,
      "outputs": [
        {
          "output_type": "stream",
          "text": [
            "2248741.88\n",
            "2242703.76\n",
            "7332526.0\n",
            "7322272.0\n"
          ],
          "name": "stdout"
        }
      ]
    },
    {
      "cell_type": "markdown",
      "metadata": {
        "id": "EQH6rF__y6JT",
        "colab_type": "text"
      },
      "source": [
        "#### By checking the min max of x and y, we can see that the depth(model output) is bound by the DEM file as it should be. In order to reduce the computation cost for later on, we can crop the DEM grid down to the size of the model output\n",
        "#### This is done in the next notebook. For now just take notes of the range of x and y in depth "
      ]
    }
  ]
}